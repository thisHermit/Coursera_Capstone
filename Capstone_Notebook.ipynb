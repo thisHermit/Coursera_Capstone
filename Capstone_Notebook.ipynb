{
 "cells": [
  {
   "cell_type": "markdown",
   "metadata": {},
   "source": [
    "# Capstone Project - The Battle of the Neighborhoods (Week 1)\n",
    "### Applied Data Science Capstone by IBM/Coursera"
   ]
  },
  {
   "cell_type": "markdown",
   "metadata": {
    "scrolled": true
   },
   "source": [
    "## Table of contents\n",
    "* [Introduction: Business Problem](#introduction)\n",
    "* [Data](#data)\n",
    "* [Methodology](#methodology)\n",
    "* [Analysis](#analysis)\n",
    "* [Results and Discussion](#results)\n",
    "* [Conclusion](#conclusion)"
   ]
  },
  {
   "cell_type": "markdown",
   "metadata": {},
   "source": [
    "\n",
    "\n",
    "## Introduction: Business Problem <a name=\"introduction\"></a>"
   ]
  },
  {
   "cell_type": "markdown",
   "metadata": {},
   "source": [
    "In this project we will try to find the best location for a restaurant. Specifically, this report will be targeted to restaurant joints interested in opening an **South Indian** in **Indore**, Madhya Pradesh, India.\n",
    "\n",
    "South Indian tastes are not very popular in Central and Northern parts of the Country so we will try to find **locations wich are most popular** in terms of food and snacks. Stakeholders would also be interested in areas with **no South Indian restaurants nearby** and locations which are as **close to a bus stop as possible**.\n",
    "\n",
    "We will use our data science powers to generate a few most promissing neighborhoods based on this criteria. Advantages of each area will then be clearly expressed so that best possible final location can be chosen by stakeholders."
   ]
  },
  {
   "cell_type": "markdown",
   "metadata": {},
   "source": [
    "## Data <a name=\"data\"></a>"
   ]
  },
  {
   "cell_type": "markdown",
   "metadata": {},
   "source": [
    "Based on definition of our problem, factors that will influence our decission are:\n",
    "* number of existing restaurants in the neighborhood and their popularity\n",
    "* number of and distance to South Indian restaurants in the neighborhood, (if any)\n",
    "* distance of neighborhood center from bus stop\n",
    "\n",
    "This projects uses the the postal code locations as the locality centers of the city to define the neighborhoods.\n",
    "\n",
    "Following data sources will be needed to extract/generate the required information:\n",
    "* centers of candidate areas will be obtained from **worldpostalcode.com** and **Google Maps API reverse geocoding**\n",
    "* number of restaurants and their type and location in every neighborhood will be obtained using **Foursquare API**\n",
    "* coordinates of Indore bus stop will be obtained using **Google Maps**\n"
   ]
  },
  {
   "cell_type": "markdown",
   "metadata": {},
   "source": [
    "#### <a href=\"https://worldpostalcode.com/india/madhya-pradesh/indore/\">Worldpostal code</a>\n",
    "The data is of the format of a div table in html which will be parsed. For each postal code the latitude and longitude will be reverse geocoded.\n",
    "\n",
    "#### Foursquare API\n",
    "This api will be used to retrieve the restaurant information.\n",
    "\n",
    "#### <a href = \"https://www.google.com/maps/search/bus+stops+in+indore/@22.6948679,75.8033411,12z/data=!4m2!2m1!6e2\">Google Maps</a>\n",
    "The bus stops around Indore will be retrieved using this API."
   ]
  },
  {
   "cell_type": "code",
   "execution_count": null,
   "metadata": {},
   "outputs": [],
   "source": []
  }
 ],
 "metadata": {
  "kernelspec": {
   "display_name": "Python 3",
   "language": "python",
   "name": "python3"
  },
  "language_info": {
   "codemirror_mode": {
    "name": "ipython",
    "version": 3
   },
   "file_extension": ".py",
   "mimetype": "text/x-python",
   "name": "python",
   "nbconvert_exporter": "python",
   "pygments_lexer": "ipython3",
   "version": "3.7.3"
  }
 },
 "nbformat": 4,
 "nbformat_minor": 2
}
